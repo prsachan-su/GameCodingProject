{
 "cells": [
  {
   "cell_type": "code",
   "execution_count": null,
   "metadata": {},
   "outputs": [],
   "source": [
    "import winsound\n",
    "import time\n",
    "def update():\n",
    "    counter = 0\n",
    "    winsound.PlaySound('Kahoot.wav', winsound.SND_ASYNC)\n",
    "    while True:\n",
    "        time.sleep(600)\n",
    "        counter+=1\n",
    "        #counter is number on minuters\n",
    "        if counter == 1:\n",
    "            winsound.PlaySound(None, winsound.SND_PURGE)\n",
    "            break\n",
    "update()\n"
   ]
  },
  {
   "cell_type": "code",
   "execution_count": null,
   "metadata": {},
   "outputs": [],
   "source": []
  }
 ],
 "metadata": {
  "kernelspec": {
   "display_name": "Python 3",
   "language": "python",
   "name": "python3"
  },
  "language_info": {
   "codemirror_mode": {
    "name": "ipython",
    "version": 3
   },
   "file_extension": ".py",
   "mimetype": "text/x-python",
   "name": "python",
   "nbconvert_exporter": "python",
   "pygments_lexer": "ipython3",
   "version": "3.6.5"
  }
 },
 "nbformat": 4,
 "nbformat_minor": 2
}
